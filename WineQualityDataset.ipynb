{
  "nbformat": 4,
  "nbformat_minor": 0,
  "metadata": {
    "colab": {
      "provenance": [],
      "authorship_tag": "ABX9TyOgkFoXd96hUXHOYV99kY63",
      "include_colab_link": true
    },
    "kernelspec": {
      "name": "python3",
      "display_name": "Python 3"
    },
    "language_info": {
      "name": "python"
    }
  },
  "cells": [
    {
      "cell_type": "markdown",
      "metadata": {
        "id": "view-in-github",
        "colab_type": "text"
      },
      "source": [
        "<a href=\"https://colab.research.google.com/github/anjalii-8/Data-Analytics-Projects/blob/main/WineQualityDataset.ipynb\" target=\"_parent\"><img src=\"https://colab.research.google.com/assets/colab-badge.svg\" alt=\"Open In Colab\"/></a>"
      ]
    },
    {
      "cell_type": "markdown",
      "source": [
        "#**Choosen Dataset:**  *Wine Quality Dataset*"
      ],
      "metadata": {
        "id": "XTKkebK8vwFh"
      }
    },
    {
      "cell_type": "code",
      "execution_count": 3,
      "metadata": {
        "colab": {
          "base_uri": "https://localhost:8080/",
          "height": 420
        },
        "id": "cdJzl1PWrBJ6",
        "outputId": "ec197dfa-c4b8-4bae-8ee4-21d5093ab865"
      },
      "outputs": [
        {
          "output_type": "display_data",
          "data": {
            "text/plain": [
              "<IPython.core.display.HTML object>"
            ],
            "text/html": [
              "\n",
              "     <input type=\"file\" id=\"files-e6dba9db-8cf4-4bf1-9f81-2078a51be48e\" name=\"files[]\" multiple disabled\n",
              "        style=\"border:none\" />\n",
              "     <output id=\"result-e6dba9db-8cf4-4bf1-9f81-2078a51be48e\">\n",
              "      Upload widget is only available when the cell has been executed in the\n",
              "      current browser session. Please rerun this cell to enable.\n",
              "      </output>\n",
              "      <script>// Copyright 2017 Google LLC\n",
              "//\n",
              "// Licensed under the Apache License, Version 2.0 (the \"License\");\n",
              "// you may not use this file except in compliance with the License.\n",
              "// You may obtain a copy of the License at\n",
              "//\n",
              "//      http://www.apache.org/licenses/LICENSE-2.0\n",
              "//\n",
              "// Unless required by applicable law or agreed to in writing, software\n",
              "// distributed under the License is distributed on an \"AS IS\" BASIS,\n",
              "// WITHOUT WARRANTIES OR CONDITIONS OF ANY KIND, either express or implied.\n",
              "// See the License for the specific language governing permissions and\n",
              "// limitations under the License.\n",
              "\n",
              "/**\n",
              " * @fileoverview Helpers for google.colab Python module.\n",
              " */\n",
              "(function(scope) {\n",
              "function span(text, styleAttributes = {}) {\n",
              "  const element = document.createElement('span');\n",
              "  element.textContent = text;\n",
              "  for (const key of Object.keys(styleAttributes)) {\n",
              "    element.style[key] = styleAttributes[key];\n",
              "  }\n",
              "  return element;\n",
              "}\n",
              "\n",
              "// Max number of bytes which will be uploaded at a time.\n",
              "const MAX_PAYLOAD_SIZE = 100 * 1024;\n",
              "\n",
              "function _uploadFiles(inputId, outputId) {\n",
              "  const steps = uploadFilesStep(inputId, outputId);\n",
              "  const outputElement = document.getElementById(outputId);\n",
              "  // Cache steps on the outputElement to make it available for the next call\n",
              "  // to uploadFilesContinue from Python.\n",
              "  outputElement.steps = steps;\n",
              "\n",
              "  return _uploadFilesContinue(outputId);\n",
              "}\n",
              "\n",
              "// This is roughly an async generator (not supported in the browser yet),\n",
              "// where there are multiple asynchronous steps and the Python side is going\n",
              "// to poll for completion of each step.\n",
              "// This uses a Promise to block the python side on completion of each step,\n",
              "// then passes the result of the previous step as the input to the next step.\n",
              "function _uploadFilesContinue(outputId) {\n",
              "  const outputElement = document.getElementById(outputId);\n",
              "  const steps = outputElement.steps;\n",
              "\n",
              "  const next = steps.next(outputElement.lastPromiseValue);\n",
              "  return Promise.resolve(next.value.promise).then((value) => {\n",
              "    // Cache the last promise value to make it available to the next\n",
              "    // step of the generator.\n",
              "    outputElement.lastPromiseValue = value;\n",
              "    return next.value.response;\n",
              "  });\n",
              "}\n",
              "\n",
              "/**\n",
              " * Generator function which is called between each async step of the upload\n",
              " * process.\n",
              " * @param {string} inputId Element ID of the input file picker element.\n",
              " * @param {string} outputId Element ID of the output display.\n",
              " * @return {!Iterable<!Object>} Iterable of next steps.\n",
              " */\n",
              "function* uploadFilesStep(inputId, outputId) {\n",
              "  const inputElement = document.getElementById(inputId);\n",
              "  inputElement.disabled = false;\n",
              "\n",
              "  const outputElement = document.getElementById(outputId);\n",
              "  outputElement.innerHTML = '';\n",
              "\n",
              "  const pickedPromise = new Promise((resolve) => {\n",
              "    inputElement.addEventListener('change', (e) => {\n",
              "      resolve(e.target.files);\n",
              "    });\n",
              "  });\n",
              "\n",
              "  const cancel = document.createElement('button');\n",
              "  inputElement.parentElement.appendChild(cancel);\n",
              "  cancel.textContent = 'Cancel upload';\n",
              "  const cancelPromise = new Promise((resolve) => {\n",
              "    cancel.onclick = () => {\n",
              "      resolve(null);\n",
              "    };\n",
              "  });\n",
              "\n",
              "  // Wait for the user to pick the files.\n",
              "  const files = yield {\n",
              "    promise: Promise.race([pickedPromise, cancelPromise]),\n",
              "    response: {\n",
              "      action: 'starting',\n",
              "    }\n",
              "  };\n",
              "\n",
              "  cancel.remove();\n",
              "\n",
              "  // Disable the input element since further picks are not allowed.\n",
              "  inputElement.disabled = true;\n",
              "\n",
              "  if (!files) {\n",
              "    return {\n",
              "      response: {\n",
              "        action: 'complete',\n",
              "      }\n",
              "    };\n",
              "  }\n",
              "\n",
              "  for (const file of files) {\n",
              "    const li = document.createElement('li');\n",
              "    li.append(span(file.name, {fontWeight: 'bold'}));\n",
              "    li.append(span(\n",
              "        `(${file.type || 'n/a'}) - ${file.size} bytes, ` +\n",
              "        `last modified: ${\n",
              "            file.lastModifiedDate ? file.lastModifiedDate.toLocaleDateString() :\n",
              "                                    'n/a'} - `));\n",
              "    const percent = span('0% done');\n",
              "    li.appendChild(percent);\n",
              "\n",
              "    outputElement.appendChild(li);\n",
              "\n",
              "    const fileDataPromise = new Promise((resolve) => {\n",
              "      const reader = new FileReader();\n",
              "      reader.onload = (e) => {\n",
              "        resolve(e.target.result);\n",
              "      };\n",
              "      reader.readAsArrayBuffer(file);\n",
              "    });\n",
              "    // Wait for the data to be ready.\n",
              "    let fileData = yield {\n",
              "      promise: fileDataPromise,\n",
              "      response: {\n",
              "        action: 'continue',\n",
              "      }\n",
              "    };\n",
              "\n",
              "    // Use a chunked sending to avoid message size limits. See b/62115660.\n",
              "    let position = 0;\n",
              "    do {\n",
              "      const length = Math.min(fileData.byteLength - position, MAX_PAYLOAD_SIZE);\n",
              "      const chunk = new Uint8Array(fileData, position, length);\n",
              "      position += length;\n",
              "\n",
              "      const base64 = btoa(String.fromCharCode.apply(null, chunk));\n",
              "      yield {\n",
              "        response: {\n",
              "          action: 'append',\n",
              "          file: file.name,\n",
              "          data: base64,\n",
              "        },\n",
              "      };\n",
              "\n",
              "      let percentDone = fileData.byteLength === 0 ?\n",
              "          100 :\n",
              "          Math.round((position / fileData.byteLength) * 100);\n",
              "      percent.textContent = `${percentDone}% done`;\n",
              "\n",
              "    } while (position < fileData.byteLength);\n",
              "  }\n",
              "\n",
              "  // All done.\n",
              "  yield {\n",
              "    response: {\n",
              "      action: 'complete',\n",
              "    }\n",
              "  };\n",
              "}\n",
              "\n",
              "scope.google = scope.google || {};\n",
              "scope.google.colab = scope.google.colab || {};\n",
              "scope.google.colab._files = {\n",
              "  _uploadFiles,\n",
              "  _uploadFilesContinue,\n",
              "};\n",
              "})(self);\n",
              "</script> "
            ]
          },
          "metadata": {}
        },
        {
          "output_type": "stream",
          "name": "stdout",
          "text": [
            "Saving WineQT.csv to WineQT (1).csv\n",
            "   fixed acidity  volatile acidity  citric acid  residual sugar  chlorides  \\\n",
            "0            7.4              0.70         0.00             1.9      0.076   \n",
            "1            7.8              0.88         0.00             2.6      0.098   \n",
            "2            7.8              0.76         0.04             2.3      0.092   \n",
            "3           11.2              0.28         0.56             1.9      0.075   \n",
            "4            7.4              0.70         0.00             1.9      0.076   \n",
            "\n",
            "   free sulfur dioxide  total sulfur dioxide  density    pH  sulphates  \\\n",
            "0                 11.0                  34.0   0.9978  3.51       0.56   \n",
            "1                 25.0                  67.0   0.9968  3.20       0.68   \n",
            "2                 15.0                  54.0   0.9970  3.26       0.65   \n",
            "3                 17.0                  60.0   0.9980  3.16       0.58   \n",
            "4                 11.0                  34.0   0.9978  3.51       0.56   \n",
            "\n",
            "   alcohol  quality  Id  \n",
            "0      9.4        5   0  \n",
            "1      9.8        5   1  \n",
            "2      9.8        5   2  \n",
            "3      9.8        6   3  \n",
            "4      9.4        5   4  \n"
          ]
        }
      ],
      "source": [
        "from google.colab import files\n",
        "import pandas as pd\n",
        "\n",
        "# Upload the file\n",
        "uploaded = files.upload()\n",
        "\n",
        "# Load the CSV into a DataFrame\n",
        "df = pd.read_csv('WineQT.csv')\n",
        "\n",
        "# Preview the first few rows of the dataset\n",
        "print(df.head())"
      ]
    },
    {
      "cell_type": "markdown",
      "source": [
        "##**Descriptive Statistics:**`"
      ],
      "metadata": {
        "id": "97dAI4OfshtU"
      }
    },
    {
      "cell_type": "code",
      "source": [
        "# Descriptive statistics for the 'alcohol' column\n",
        "alcohol_stats = df['alcohol'].describe()\n",
        "print(alcohol_stats)\n",
        "\n",
        "# Descriptive statistics for the 'quality' column\n",
        "quality_stats = df['quality'].describe()\n",
        "print(quality_stats)"
      ],
      "metadata": {
        "colab": {
          "base_uri": "https://localhost:8080/"
        },
        "id": "Zm4y3_KBsnyw",
        "outputId": "5a1cea81-c923-49f1-8a7c-b7555e457878"
      },
      "execution_count": 4,
      "outputs": [
        {
          "output_type": "stream",
          "name": "stdout",
          "text": [
            "count    1143.000000\n",
            "mean       10.442111\n",
            "std         1.082196\n",
            "min         8.400000\n",
            "25%         9.500000\n",
            "50%        10.200000\n",
            "75%        11.100000\n",
            "max        14.900000\n",
            "Name: alcohol, dtype: float64\n",
            "count    1143.000000\n",
            "mean        5.657043\n",
            "std         0.805824\n",
            "min         3.000000\n",
            "25%         5.000000\n",
            "50%         6.000000\n",
            "75%         6.000000\n",
            "max         8.000000\n",
            "Name: quality, dtype: float64\n"
          ]
        }
      ]
    },
    {
      "cell_type": "markdown",
      "source": [
        "## **Grouped Analysis:**"
      ],
      "metadata": {
        "id": "znaav4hTsxEi"
      }
    },
    {
      "cell_type": "code",
      "source": [
        "# Group by 'quality' and calculate the average 'alcohol' content\n",
        "grouped_data = df.groupby('quality')['alcohol'].mean()\n",
        "print(grouped_data)"
      ],
      "metadata": {
        "colab": {
          "base_uri": "https://localhost:8080/"
        },
        "id": "XKi1Pqkks24I",
        "outputId": "c4d46a84-37af-4928-eb5d-7cf501f2177c"
      },
      "execution_count": 5,
      "outputs": [
        {
          "output_type": "stream",
          "name": "stdout",
          "text": [
            "quality\n",
            "3     9.691667\n",
            "4    10.260606\n",
            "5     9.902277\n",
            "6    10.655339\n",
            "7    11.482634\n",
            "8    11.937500\n",
            "Name: alcohol, dtype: float64\n"
          ]
        }
      ]
    },
    {
      "cell_type": "markdown",
      "source": [
        "##**Visualization:**"
      ],
      "metadata": {
        "id": "Ii5gzCaFs-_V"
      }
    },
    {
      "cell_type": "code",
      "source": [
        "import matplotlib.pyplot as plt\n",
        "\n",
        "# Bar chart showing average alcohol content by quality\n",
        "grouped_data.plot(kind='bar', color='lightgreen')\n",
        "plt.title('Average Alcohol Content by Wine Quality')\n",
        "plt.xlabel('Wine Quality')\n",
        "plt.ylabel('Average Alcohol Content (%)')\n",
        "plt.show()"
      ],
      "metadata": {
        "colab": {
          "base_uri": "https://localhost:8080/",
          "height": 467
        },
        "id": "JYjOmKtTtIXP",
        "outputId": "e610b109-d16d-4648-f104-9adcfac12c68"
      },
      "execution_count": 11,
      "outputs": [
        {
          "output_type": "display_data",
          "data": {
            "text/plain": [
              "<Figure size 640x480 with 1 Axes>"
            ],
            "image/png": "[encoded data removed]"
          },
          "metadata": {}
        }
      ]
    },
    {
      "cell_type": "markdown",
      "source": [
        "## **Report: Analysis of Wine Quality and Alcohol Content:**"
      ],
      "metadata": {
        "id": "RwfgY8XKtdrl"
      }
    },
    {
      "cell_type": "markdown",
      "source": [
        "###**Report: Understanding the Link Between Wine Quality and Alcohol Content**\n",
        "\n",
        "\n",
        "###**Introduction:**\n",
        "\n",
        "This analysis dives into the relationship between wine quality and alcohol content using the Wine Quality Dataset. This dataset provides details on various chemical properties of wines, along with their quality ratings, which typically range from 0 to 10.\n",
        "\n",
        "###**Data Summary:**\n",
        "\n",
        "We focused on examining how alcohol content relates to the quality ratings of wines. To do this, we calculated summary statistics for both alcohol and quality and then looked at how the average alcohol content varies across different quality levels.\n",
        "\n",
        "###**Key Insights:**\n",
        "\n",
        "- **Alcohol Content and Quality:**\n",
        "The analysis revealed a clear pattern: as wine quality ratings go up, so does the average alcohol content. For example, wines rated at a 3 tend to have lower alcohol levels compared to those rated at 8 or 9. This suggests that wines considered to be of higher quality generally have more alcohol.\n",
        "\n",
        "- **Visual Insights:**\n",
        "A bar chart was created to visualize this trend, showing that as the quality rating of the wine increases, so does the average alcohol content. This suggests that alcohol might play a key role in how wine quality is perceived.\n",
        "\n",
        "- **Bar Chart:** Average Alcohol Content by Wine Quality\n",
        "\n",
        "![download.png](data:image/png;base64,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)\n",
        "\n",
        "###**Interesting Trends:**\n",
        "\n",
        "- **Positive Relationship:**\n",
        "\n",
        "The positive link between wine quality and alcohol content might indicate that higher alcohol levels contribute to higher quality ratings. This could be because consumers often associate stronger wines with better flavor and overall quality.\n",
        "\n",
        "- **Variation in Quality:**\n",
        "\n",
        "There's also noticeable variation in alcohol content across different quality levels, especially between mid-range and high-end wines. This could be due to differences in production techniques, grape varieties, or aging processes that influence both alcohol content and overall quality.\n",
        "\n",
        "###**Conclusion:**\n",
        "\n",
        "The analysis clearly shows that wines with higher quality ratings tend to have higher average alcohol content. This insight could be useful for winemakers and marketers aiming to produce and sell higher-quality wines. However, it's worth remembering that other factors, such as acidity, sugar content, and tannins, also play a crucial role in determining a wine's quality."
      ],
      "metadata": {
        "id": "3t42FtNnt4Uq"
      }
    }
  ]
}